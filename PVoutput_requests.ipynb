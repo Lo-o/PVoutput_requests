{
 "cells": [
  {
   "cell_type": "code",
   "execution_count": 5,
   "metadata": {},
   "outputs": [],
   "source": [
    "import requests\n",
    "import pandas as pd\n",
    "import numpy as np\n",
    "import io\n",
    "import json"
   ]
  },
  {
   "cell_type": "markdown",
   "metadata": {},
   "source": [
    "## Credentials\n",
    "The necessary input is own system id (sid) + API key  \n",
    "Note again that getting data from other systems through PVoutput's API is dependent on an API key only available through the donation program"
   ]
  },
  {
   "cell_type": "code",
   "execution_count": 6,
   "metadata": {},
   "outputs": [],
   "source": [
    "# Only run if key in separate json file\n",
    "with open('key.txt') as json_file:\n",
    "    credentials = json.load(json_file)    \n",
    "    "
   ]
  },
  {
   "cell_type": "code",
   "execution_count": 25,
   "metadata": {},
   "outputs": [],
   "source": [
    "# Run in case key pasted here directly\n",
    "sid_personal = '<PERSONAL SID HERE'\n",
    "pvoutput_key = '<KEY HERE>'\n",
    "\n",
    "credentials = {'sid_personal': sid_personal, 'pvoutput_key': pvoutput_key}"
   ]
  },
  {
   "cell_type": "markdown",
   "metadata": {},
   "source": [
    "## Request  \n",
    "payload possibilities to pvoutput are given at https://pvoutput.org/help.html#api-getstatus.  \n",
    "To get all values for a desired day, history needs to be enabled and a limit large enough needs to be given.  \n",
    "A request to the API itself is always for a single day. \n",
    "A day can be 25 hours probably, with 5 minute increments between data points, this equates to 300 data points.\n",
    "<br>\n",
    "<br>\n",
    "\n",
    "Example sid(1)'s:  \n",
    "sid_varjusolar (Hungary) = '27781'  \n",
    "sid_deVries (NL) = '60328'  https://pvoutput.org/list.jsp?id=67874&sid=60328  "
   ]
  },
  {
   "cell_type": "code",
   "execution_count": 62,
   "metadata": {},
   "outputs": [],
   "source": [
    "def RequestPVoutput(sid1, Date = None):\n",
    "    # No specified date results in today's data\n",
    "    pvoutput_service_url = 'https://pvoutput.org/service/r2/getstatus.jsp'\n",
    "    \n",
    "    history = 1\n",
    "    limit = 500\n",
    "\n",
    "    payload = {'sid': credentials['sid_personal'], \n",
    "               'key': credentials['pvoutput_key'], \n",
    "               'sid1': str(sid1), \n",
    "               'h': history,\n",
    "               'limit': limit\n",
    "              }\n",
    "    if Date:\n",
    "        payload['d'] = Date.strftime('%Y%m%d')\n",
    "    \n",
    "    r = requests.get(pvoutput_service_url, params=payload)\n",
    "    print(f'Status code {r.status_code} -- {Date} GOT')\n",
    "    \n",
    "    return r\n",
    "\n",
    "\n",
    "def ParsePVoutput(RequestsResponse):\n",
    "    pvoutputFields = ['Date', 'Time', 'DayGeneration', 'DayEfficiency', 'Power', 'Average', 'Normalised', 'Unknown1', 'Unknown2', 'Unknown3', 'Unknown4']\n",
    "\n",
    "    urlData = RequestsResponse.content\n",
    "    urlData = urlData.decode('utf-8').replace(';', '\\n')\n",
    "    df_solar = pd.read_csv(io.StringIO(urlData), names = pvoutputFields, )\n",
    "    df_solar['Date'] = df_solar['Date'].astype(str) + ' ' + df_solar['Time']\n",
    "    df_solar['Date'] = pd.to_datetime(df_solar['Date'], format= '%Y%m%d %H:%M')\n",
    "\n",
    "    df_solar.drop(['Time'], axis=1, inplace= True)\n",
    "    df_solar.set_index('Date', inplace= True)\n",
    "\n",
    "    df_solar = df_solar[pvoutputFields[2:7]]\n",
    "    return df_solar\n"
   ]
  },
  {
   "cell_type": "markdown",
   "metadata": {},
   "source": [
    "# Single day request "
   ]
  },
  {
   "cell_type": "code",
   "execution_count": 63,
   "metadata": {},
   "outputs": [
    {
     "name": "stdout",
     "output_type": "stream",
     "text": [
      "Status code 200 -- 2020-02-15 00:00:00 GOT\n"
     ]
    },
    {
     "data": {
      "text/html": [
       "<div>\n",
       "<style scoped>\n",
       "    .dataframe tbody tr th:only-of-type {\n",
       "        vertical-align: middle;\n",
       "    }\n",
       "\n",
       "    .dataframe tbody tr th {\n",
       "        vertical-align: top;\n",
       "    }\n",
       "\n",
       "    .dataframe thead th {\n",
       "        text-align: right;\n",
       "    }\n",
       "</style>\n",
       "<table border=\"1\" class=\"dataframe\">\n",
       "  <thead>\n",
       "    <tr style=\"text-align: right;\">\n",
       "      <th></th>\n",
       "      <th>DayGeneration</th>\n",
       "      <th>DayEfficiency</th>\n",
       "      <th>Power</th>\n",
       "      <th>Average</th>\n",
       "      <th>Normalised</th>\n",
       "    </tr>\n",
       "    <tr>\n",
       "      <th>Date</th>\n",
       "      <th></th>\n",
       "      <th></th>\n",
       "      <th></th>\n",
       "      <th></th>\n",
       "      <th></th>\n",
       "    </tr>\n",
       "  </thead>\n",
       "  <tbody>\n",
       "    <tr>\n",
       "      <th>2020-02-15 23:55:00</th>\n",
       "      <td>2679.0</td>\n",
       "      <td>0.523</td>\n",
       "      <td>0</td>\n",
       "      <td>0.0</td>\n",
       "      <td>0.0</td>\n",
       "    </tr>\n",
       "    <tr>\n",
       "      <th>2020-02-15 23:50:00</th>\n",
       "      <td>2679.0</td>\n",
       "      <td>0.523</td>\n",
       "      <td>0</td>\n",
       "      <td>0.0</td>\n",
       "      <td>0.0</td>\n",
       "    </tr>\n",
       "    <tr>\n",
       "      <th>2020-02-15 23:45:00</th>\n",
       "      <td>2679.0</td>\n",
       "      <td>0.523</td>\n",
       "      <td>0</td>\n",
       "      <td>0.0</td>\n",
       "      <td>0.0</td>\n",
       "    </tr>\n",
       "    <tr>\n",
       "      <th>2020-02-15 23:40:00</th>\n",
       "      <td>2679.0</td>\n",
       "      <td>0.523</td>\n",
       "      <td>0</td>\n",
       "      <td>0.0</td>\n",
       "      <td>0.0</td>\n",
       "    </tr>\n",
       "    <tr>\n",
       "      <th>2020-02-15 23:35:00</th>\n",
       "      <td>2679.0</td>\n",
       "      <td>0.523</td>\n",
       "      <td>0</td>\n",
       "      <td>0.0</td>\n",
       "      <td>0.0</td>\n",
       "    </tr>\n",
       "    <tr>\n",
       "      <th>...</th>\n",
       "      <td>...</td>\n",
       "      <td>...</td>\n",
       "      <td>...</td>\n",
       "      <td>...</td>\n",
       "      <td>...</td>\n",
       "    </tr>\n",
       "    <tr>\n",
       "      <th>2020-02-15 00:20:00</th>\n",
       "      <td>NaN</td>\n",
       "      <td>NaN</td>\n",
       "      <td>0</td>\n",
       "      <td>NaN</td>\n",
       "      <td>NaN</td>\n",
       "    </tr>\n",
       "    <tr>\n",
       "      <th>2020-02-15 00:15:00</th>\n",
       "      <td>NaN</td>\n",
       "      <td>NaN</td>\n",
       "      <td>0</td>\n",
       "      <td>NaN</td>\n",
       "      <td>NaN</td>\n",
       "    </tr>\n",
       "    <tr>\n",
       "      <th>2020-02-15 00:10:00</th>\n",
       "      <td>NaN</td>\n",
       "      <td>NaN</td>\n",
       "      <td>0</td>\n",
       "      <td>NaN</td>\n",
       "      <td>NaN</td>\n",
       "    </tr>\n",
       "    <tr>\n",
       "      <th>2020-02-15 00:05:00</th>\n",
       "      <td>NaN</td>\n",
       "      <td>NaN</td>\n",
       "      <td>0</td>\n",
       "      <td>NaN</td>\n",
       "      <td>NaN</td>\n",
       "    </tr>\n",
       "    <tr>\n",
       "      <th>2020-02-15 00:00:00</th>\n",
       "      <td>NaN</td>\n",
       "      <td>NaN</td>\n",
       "      <td>0</td>\n",
       "      <td>NaN</td>\n",
       "      <td>NaN</td>\n",
       "    </tr>\n",
       "  </tbody>\n",
       "</table>\n",
       "<p>288 rows × 5 columns</p>\n",
       "</div>"
      ],
      "text/plain": [
       "                     DayGeneration  DayEfficiency  Power  Average  Normalised\n",
       "Date                                                                         \n",
       "2020-02-15 23:55:00         2679.0          0.523      0      0.0         0.0\n",
       "2020-02-15 23:50:00         2679.0          0.523      0      0.0         0.0\n",
       "2020-02-15 23:45:00         2679.0          0.523      0      0.0         0.0\n",
       "2020-02-15 23:40:00         2679.0          0.523      0      0.0         0.0\n",
       "2020-02-15 23:35:00         2679.0          0.523      0      0.0         0.0\n",
       "...                            ...            ...    ...      ...         ...\n",
       "2020-02-15 00:20:00            NaN            NaN      0      NaN         NaN\n",
       "2020-02-15 00:15:00            NaN            NaN      0      NaN         NaN\n",
       "2020-02-15 00:10:00            NaN            NaN      0      NaN         NaN\n",
       "2020-02-15 00:05:00            NaN            NaN      0      NaN         NaN\n",
       "2020-02-15 00:00:00            NaN            NaN      0      NaN         NaN\n",
       "\n",
       "[288 rows x 5 columns]"
      ]
     },
     "execution_count": 63,
     "metadata": {},
     "output_type": "execute_result"
    }
   ],
   "source": [
    "r = RequestPVoutput(sid1= '60328', Date = pd.to_datetime('2020-02-15'))\n",
    "\n",
    "df_solar = ParsePVoutput(RequestsResponse= r)\n",
    "df_solar"
   ]
  },
  {
   "cell_type": "code",
   "execution_count": null,
   "metadata": {},
   "outputs": [],
   "source": []
  },
  {
   "cell_type": "markdown",
   "metadata": {},
   "source": [
    "# Multi-day dataframe "
   ]
  },
  {
   "cell_type": "code",
   "execution_count": 64,
   "metadata": {},
   "outputs": [
    {
     "name": "stdout",
     "output_type": "stream",
     "text": [
      "Status code 200 -- 2020-01-12 00:00:00 GOT\n",
      "Status code 200 -- 2020-01-13 00:00:00 GOT\n"
     ]
    }
   ],
   "source": [
    "df = pd.DataFrame()\n",
    "for date in pd.date_range(start='2020-01-12', end='2020-01-13'):\n",
    "    r = RequestPVoutput(sid1= '60328', Date= date)\n",
    "    \n",
    "    df_solar = ParsePVoutput(RequestsResponse= r)\n",
    "    df = df.append(df_solar)\n",
    "    \n",
    "df.sort_index(inplace= True)"
   ]
  },
  {
   "cell_type": "code",
   "execution_count": 65,
   "metadata": {},
   "outputs": [
    {
     "data": {
      "text/html": [
       "<div>\n",
       "<style scoped>\n",
       "    .dataframe tbody tr th:only-of-type {\n",
       "        vertical-align: middle;\n",
       "    }\n",
       "\n",
       "    .dataframe tbody tr th {\n",
       "        vertical-align: top;\n",
       "    }\n",
       "\n",
       "    .dataframe thead th {\n",
       "        text-align: right;\n",
       "    }\n",
       "</style>\n",
       "<table border=\"1\" class=\"dataframe\">\n",
       "  <thead>\n",
       "    <tr style=\"text-align: right;\">\n",
       "      <th></th>\n",
       "      <th>DayGeneration</th>\n",
       "      <th>DayEfficiency</th>\n",
       "      <th>Power</th>\n",
       "      <th>Average</th>\n",
       "      <th>Normalised</th>\n",
       "    </tr>\n",
       "    <tr>\n",
       "      <th>Date</th>\n",
       "      <th></th>\n",
       "      <th></th>\n",
       "      <th></th>\n",
       "      <th></th>\n",
       "      <th></th>\n",
       "    </tr>\n",
       "  </thead>\n",
       "  <tbody>\n",
       "    <tr>\n",
       "      <th>2020-01-12 00:00:00</th>\n",
       "      <td>NaN</td>\n",
       "      <td>NaN</td>\n",
       "      <td>0</td>\n",
       "      <td>NaN</td>\n",
       "      <td>NaN</td>\n",
       "    </tr>\n",
       "    <tr>\n",
       "      <th>2020-01-12 00:05:00</th>\n",
       "      <td>NaN</td>\n",
       "      <td>NaN</td>\n",
       "      <td>0</td>\n",
       "      <td>NaN</td>\n",
       "      <td>NaN</td>\n",
       "    </tr>\n",
       "    <tr>\n",
       "      <th>2020-01-12 00:10:00</th>\n",
       "      <td>NaN</td>\n",
       "      <td>NaN</td>\n",
       "      <td>0</td>\n",
       "      <td>NaN</td>\n",
       "      <td>NaN</td>\n",
       "    </tr>\n",
       "    <tr>\n",
       "      <th>2020-01-12 00:15:00</th>\n",
       "      <td>NaN</td>\n",
       "      <td>NaN</td>\n",
       "      <td>0</td>\n",
       "      <td>NaN</td>\n",
       "      <td>NaN</td>\n",
       "    </tr>\n",
       "    <tr>\n",
       "      <th>2020-01-12 00:20:00</th>\n",
       "      <td>NaN</td>\n",
       "      <td>NaN</td>\n",
       "      <td>0</td>\n",
       "      <td>NaN</td>\n",
       "      <td>NaN</td>\n",
       "    </tr>\n",
       "    <tr>\n",
       "      <th>...</th>\n",
       "      <td>...</td>\n",
       "      <td>...</td>\n",
       "      <td>...</td>\n",
       "      <td>...</td>\n",
       "      <td>...</td>\n",
       "    </tr>\n",
       "    <tr>\n",
       "      <th>2020-01-13 23:35:00</th>\n",
       "      <td>2898.0</td>\n",
       "      <td>0.566</td>\n",
       "      <td>0</td>\n",
       "      <td>0.0</td>\n",
       "      <td>0.0</td>\n",
       "    </tr>\n",
       "    <tr>\n",
       "      <th>2020-01-13 23:40:00</th>\n",
       "      <td>2898.0</td>\n",
       "      <td>0.566</td>\n",
       "      <td>0</td>\n",
       "      <td>0.0</td>\n",
       "      <td>0.0</td>\n",
       "    </tr>\n",
       "    <tr>\n",
       "      <th>2020-01-13 23:45:00</th>\n",
       "      <td>2898.0</td>\n",
       "      <td>0.566</td>\n",
       "      <td>0</td>\n",
       "      <td>0.0</td>\n",
       "      <td>0.0</td>\n",
       "    </tr>\n",
       "    <tr>\n",
       "      <th>2020-01-13 23:50:00</th>\n",
       "      <td>2898.0</td>\n",
       "      <td>0.566</td>\n",
       "      <td>0</td>\n",
       "      <td>0.0</td>\n",
       "      <td>0.0</td>\n",
       "    </tr>\n",
       "    <tr>\n",
       "      <th>2020-01-13 23:55:00</th>\n",
       "      <td>2898.0</td>\n",
       "      <td>0.566</td>\n",
       "      <td>0</td>\n",
       "      <td>0.0</td>\n",
       "      <td>0.0</td>\n",
       "    </tr>\n",
       "  </tbody>\n",
       "</table>\n",
       "<p>576 rows × 5 columns</p>\n",
       "</div>"
      ],
      "text/plain": [
       "                     DayGeneration  DayEfficiency  Power  Average  Normalised\n",
       "Date                                                                         \n",
       "2020-01-12 00:00:00            NaN            NaN      0      NaN         NaN\n",
       "2020-01-12 00:05:00            NaN            NaN      0      NaN         NaN\n",
       "2020-01-12 00:10:00            NaN            NaN      0      NaN         NaN\n",
       "2020-01-12 00:15:00            NaN            NaN      0      NaN         NaN\n",
       "2020-01-12 00:20:00            NaN            NaN      0      NaN         NaN\n",
       "...                            ...            ...    ...      ...         ...\n",
       "2020-01-13 23:35:00         2898.0          0.566      0      0.0         0.0\n",
       "2020-01-13 23:40:00         2898.0          0.566      0      0.0         0.0\n",
       "2020-01-13 23:45:00         2898.0          0.566      0      0.0         0.0\n",
       "2020-01-13 23:50:00         2898.0          0.566      0      0.0         0.0\n",
       "2020-01-13 23:55:00         2898.0          0.566      0      0.0         0.0\n",
       "\n",
       "[576 rows x 5 columns]"
      ]
     },
     "execution_count": 65,
     "metadata": {},
     "output_type": "execute_result"
    }
   ],
   "source": [
    "df"
   ]
  },
  {
   "cell_type": "code",
   "execution_count": 66,
   "metadata": {},
   "outputs": [
    {
     "data": {
      "text/plain": [
       "<matplotlib.axes._subplots.AxesSubplot at 0x25550161848>"
      ]
     },
     "execution_count": 66,
     "metadata": {},
     "output_type": "execute_result"
    },
    {
     "data": {
      "image/png": "[encoded data removed]",
      "text/plain": [
       "<Figure size 1296x648 with 1 Axes>"
      ]
     },
     "metadata": {
      "needs_background": "light"
     },
     "output_type": "display_data"
    }
   ],
   "source": [
    "import matplotlib.pyplot as plt\n",
    "plt.style.use('bmh')\n",
    "\n",
    "fig,ax = plt.subplots(figsize= (18, 9))\n",
    "\n",
    "df['Power'].plot(ax= ax)"
   ]
  },
  {
   "cell_type": "code",
   "execution_count": null,
   "metadata": {},
   "outputs": [],
   "source": []
  }
 ],
 "metadata": {
  "kernelspec": {
   "display_name": "Python 3",
   "language": "python",
   "name": "python3"
  },
  "language_info": {
   "codemirror_mode": {
    "name": "ipython",
    "version": 3
   },
   "file_extension": ".py",
   "mimetype": "text/x-python",
   "name": "python",
   "nbconvert_exporter": "python",
   "pygments_lexer": "ipython3",
   "version": "3.7.6"
  }
 },
 "nbformat": 4,
 "nbformat_minor": 4
}
